{
 "metadata": {
  "name": "",
  "signature": "sha256:3090869ba3b760ffa7271e68fbffb4eeb9134c810aff514606a98ba9212d2810"
 },
 "nbformat": 3,
 "nbformat_minor": 0,
 "worksheets": [
  {
   "cells": [
    {
     "cell_type": "markdown",
     "metadata": {},
     "source": [
      "This notebook is used to reconstruct eigenfunctions from the eigf.dat file and plot some of them (there are as many eigenfunctions as lattice points which is not entirely... correct)"
     ]
    },
    {
     "cell_type": "code",
     "collapsed": false,
     "input": [
      "import numpy as np\n",
      "import matplotlib.pyplot as plt\n",
      "#np.set_printoptions(threshold='nan')\n",
      "from IPython.display import Image, SVG"
     ],
     "language": "python",
     "metadata": {},
     "outputs": [],
     "prompt_number": 1
    },
    {
     "cell_type": "code",
     "collapsed": false,
     "input": [
      "# Open and read the file\n",
      "filestream = open(\"../src/eigf.dat\")\n",
      "filedata=filestream.readlines()"
     ],
     "language": "python",
     "metadata": {},
     "outputs": [],
     "prompt_number": 2
    },
    {
     "cell_type": "code",
     "collapsed": false,
     "input": [
      "# snippet of code to transform read file into NumPy complex array (feel should be simpler).\n",
      "# Eigenfunctions will be stored in a complex array named \"eigf\".\n",
      "size = np.size(filedata)\n",
      "eigf = np.empty([size,size],dtype=complex)\n",
      "for row in range(np.size(filedata)):\n",
      "    B=filedata[row].split()\n",
      "    for i in range(len(B)):\n",
      "        B[i]=B[i].strip(\"(\")\n",
      "        B[i]=B[i].strip(\")\")\n",
      "        B[i] = B[i].split(\",\")\n",
      "        eigf[row][i]=complex(float(B[i][0]),float(B[i][1]))\n",
      "#print(eigf)\n",
      "filedata.clear()\n",
      "B.clear()"
     ],
     "language": "python",
     "metadata": {},
     "outputs": [],
     "prompt_number": 3
    },
    {
     "cell_type": "markdown",
     "metadata": {},
     "source": [
      "We now apply the inverse tranform such that for each lattice point $i$:\n",
      "$$\n",
      "\\phi_i = \\frac{1}{\\sqrt{2}}\n",
      "\\begin{pmatrix}\n",
      "1 & 0 & i & 0 \\\\\n",
      "1 & 0 & -i & 0 \\\\\n",
      "0 & 1 & 0 & i \\\\\n",
      "0 & 1 & 0 & -i \n",
      "\\end{pmatrix}\n",
      "\\begin{pmatrix}\n",
      "u_i^1 \\\\ u_i^2 \\\\ d_i^1 \\\\ d_i^2\n",
      "\\end{pmatrix}\n",
      "= \\mathcal{U^{-1}}\\cdot c_i\n",
      "$$\n",
      "where $\\phi_i$ and $c_i$ are quadrispinor in each lattice point, $\\phi_i$ in \"common\" form and $c_i$ in majorana form such that $c_i = (u_i^1, u_i^2, d_i^1, d_i^2)$. Therefore the total transform is given by\n",
      "$$\n",
      "\\Phi = \n",
      "\\begin{pmatrix}\n",
      "\\phi_0 \\\\ \\phi_1 \\\\ \\vdots \\\\ \\phi_L\n",
      "\\end{pmatrix}\n",
      "=\n",
      "\\begin{pmatrix}\n",
      "\\mathcal{U^{-1}} & 0 & \\ldots & 0 \\\\\n",
      "0 & \\mathcal{U^{-1}} & \\ldots & 0 \\\\\n",
      "\\vdots & \\vdots & \\ddots & \\vdots \\\\\n",
      "0 & 0 & \\ldots & \\mathcal{U^{-1}}\n",
      "\\end{pmatrix}\n",
      "\\begin{pmatrix}\n",
      "c_0 \\\\ c_1 \\\\ \\vdots \\\\ c_L\n",
      "\\end{pmatrix}\n",
      "$$\n",
      "Such that $\\mathcal{U^{-1}}$ are blocks with dimension 4x4."
     ]
    },
    {
     "cell_type": "code",
     "collapsed": false,
     "input": [
      "# building the U^{-1} blocks\n",
      "Uinv = np.array([[1,0,1j,0],[1,0,-1j,0],[0,1,0,1j],[0,1,0,-1j]])\n",
      "#print(Uinv)"
     ],
     "language": "python",
     "metadata": {},
     "outputs": [],
     "prompt_number": 4
    },
    {
     "cell_type": "code",
     "collapsed": false,
     "input": [
      "# NOTE: the c vector in the right hand side is what's stored in each line of eigf array\n",
      "# 1. building the whole transformation matrix\n",
      "UU = np.zeros([size,size],dtype=complex)\n",
      "for i in range(size-4):\n",
      "    UU[i:i+4, i:i+4] = Uinv\n",
      "#print(UU)\n",
      "# 2. Applying transformation UU to each line of eigf\n",
      "eigenfuncs=np.dot(UU,np.transpose(eigf))\n",
      "# 3. Reconstruct the \"original\" wave function\n",
      "L = int(size/4)\n",
      "eigenphi = np.zeros([L,L], dtype=complex)\n",
      "for i in range(L):\n",
      "    for j in np.arange(0,size,4):\n",
      "        eigenphi[i][j/4] = np.sqrt(2)*(eigenfuncs[i][j] + eigenfuncs[i][j+3])"
     ],
     "language": "python",
     "metadata": {},
     "outputs": [],
     "prompt_number": 23
    },
    {
     "cell_type": "code",
     "collapsed": false,
     "input": [
      "#plt.hold(True)\n",
      "# range where to plot the function\n",
      "for i in range(5):\n",
      "    #plt.plot(np.arange(size/50),np.abs(eigenphi[i][0:size/50+1]))\n",
      "    plt.plot(np.arange(size/4),np.abs(eigenphi[i]))\n",
      "plt.show()\n",
      "plt.savefig(\"eigfplots.svg\")"
     ],
     "language": "python",
     "metadata": {},
     "outputs": [
      {
       "output_type": "stream",
       "stream": "stderr",
       "text": [
        "/usr/lib/python3.4/site-packages/matplotlib/axes/_axes.py:476: UserWarning: No labelled objects found. Use label='...' kwarg on individual plots.\n",
        "  warnings.warn(\"No labelled objects found. \"\n"
       ]
      },
      {
       "ename": "AttributeError",
       "evalue": "'NoneType' object has no attribute 'draggable'",
       "output_type": "pyerr",
       "traceback": [
        "\u001b[1;31m---------------------------------------------------------------------------\u001b[0m\n\u001b[1;31mAttributeError\u001b[0m                            Traceback (most recent call last)",
        "\u001b[1;32m/usr/lib/python3.4/site-packages/matplotlib/backends/qt_editor/formlayout.py\u001b[0m in \u001b[0;36mapply\u001b[1;34m(self)\u001b[0m\n\u001b[0;32m    468\u001b[0m \u001b[1;33m\u001b[0m\u001b[0m\n\u001b[0;32m    469\u001b[0m     \u001b[1;32mdef\u001b[0m \u001b[0mapply\u001b[0m\u001b[1;33m(\u001b[0m\u001b[0mself\u001b[0m\u001b[1;33m)\u001b[0m\u001b[1;33m:\u001b[0m\u001b[1;33m\u001b[0m\u001b[0m\n\u001b[1;32m--> 470\u001b[1;33m         \u001b[0mself\u001b[0m\u001b[1;33m.\u001b[0m\u001b[0mapply_callback\u001b[0m\u001b[1;33m(\u001b[0m\u001b[0mself\u001b[0m\u001b[1;33m.\u001b[0m\u001b[0mformwidget\u001b[0m\u001b[1;33m.\u001b[0m\u001b[0mget\u001b[0m\u001b[1;33m(\u001b[0m\u001b[1;33m)\u001b[0m\u001b[1;33m)\u001b[0m\u001b[1;33m\u001b[0m\u001b[0m\n\u001b[0m\u001b[0;32m    471\u001b[0m \u001b[1;33m\u001b[0m\u001b[0m\n\u001b[0;32m    472\u001b[0m     \u001b[1;32mdef\u001b[0m \u001b[0mget\u001b[0m\u001b[1;33m(\u001b[0m\u001b[0mself\u001b[0m\u001b[1;33m)\u001b[0m\u001b[1;33m:\u001b[0m\u001b[1;33m\u001b[0m\u001b[0m\n",
        "\u001b[1;32m/usr/lib/python3.4/site-packages/matplotlib/backends/qt_editor/figureoptions.py\u001b[0m in \u001b[0;36mapply_callback\u001b[1;34m(data)\u001b[0m\n\u001b[0;32m    136\u001b[0m             \u001b[1;32melse\u001b[0m\u001b[1;33m:\u001b[0m\u001b[1;33m\u001b[0m\u001b[0m\n\u001b[0;32m    137\u001b[0m                 \u001b[0mnew_legend\u001b[0m \u001b[1;33m=\u001b[0m \u001b[0maxes\u001b[0m\u001b[1;33m.\u001b[0m\u001b[0mlegend\u001b[0m\u001b[1;33m(\u001b[0m\u001b[1;33m)\u001b[0m\u001b[1;33m\u001b[0m\u001b[0m\n\u001b[1;32m--> 138\u001b[1;33m                 \u001b[0mnew_legend\u001b[0m\u001b[1;33m.\u001b[0m\u001b[0mdraggable\u001b[0m\u001b[1;33m(\u001b[0m\u001b[1;32mTrue\u001b[0m\u001b[1;33m)\u001b[0m\u001b[1;33m\u001b[0m\u001b[0m\n\u001b[0m\u001b[0;32m    139\u001b[0m \u001b[1;33m\u001b[0m\u001b[0m\n\u001b[0;32m    140\u001b[0m         \u001b[1;31m# Redraw\u001b[0m\u001b[1;33m\u001b[0m\u001b[1;33m\u001b[0m\u001b[0m\n",
        "\u001b[1;31mAttributeError\u001b[0m: 'NoneType' object has no attribute 'draggable'"
       ]
      },
      {
       "ename": "AttributeError",
       "evalue": "'NoneType' object has no attribute 'draggable'",
       "output_type": "pyerr",
       "traceback": [
        "\u001b[1;31m---------------------------------------------------------------------------\u001b[0m\n\u001b[1;31mAttributeError\u001b[0m                            Traceback (most recent call last)",
        "\u001b[1;32m/usr/lib/python3.4/site-packages/matplotlib/backends/qt_editor/formlayout.py\u001b[0m in \u001b[0;36mapply\u001b[1;34m(self)\u001b[0m\n\u001b[0;32m    468\u001b[0m \u001b[1;33m\u001b[0m\u001b[0m\n\u001b[0;32m    469\u001b[0m     \u001b[1;32mdef\u001b[0m \u001b[0mapply\u001b[0m\u001b[1;33m(\u001b[0m\u001b[0mself\u001b[0m\u001b[1;33m)\u001b[0m\u001b[1;33m:\u001b[0m\u001b[1;33m\u001b[0m\u001b[0m\n\u001b[1;32m--> 470\u001b[1;33m         \u001b[0mself\u001b[0m\u001b[1;33m.\u001b[0m\u001b[0mapply_callback\u001b[0m\u001b[1;33m(\u001b[0m\u001b[0mself\u001b[0m\u001b[1;33m.\u001b[0m\u001b[0mformwidget\u001b[0m\u001b[1;33m.\u001b[0m\u001b[0mget\u001b[0m\u001b[1;33m(\u001b[0m\u001b[1;33m)\u001b[0m\u001b[1;33m)\u001b[0m\u001b[1;33m\u001b[0m\u001b[0m\n\u001b[0m\u001b[0;32m    471\u001b[0m \u001b[1;33m\u001b[0m\u001b[0m\n\u001b[0;32m    472\u001b[0m     \u001b[1;32mdef\u001b[0m \u001b[0mget\u001b[0m\u001b[1;33m(\u001b[0m\u001b[0mself\u001b[0m\u001b[1;33m)\u001b[0m\u001b[1;33m:\u001b[0m\u001b[1;33m\u001b[0m\u001b[0m\n",
        "\u001b[1;32m/usr/lib/python3.4/site-packages/matplotlib/backends/qt_editor/figureoptions.py\u001b[0m in \u001b[0;36mapply_callback\u001b[1;34m(data)\u001b[0m\n\u001b[0;32m    136\u001b[0m             \u001b[1;32melse\u001b[0m\u001b[1;33m:\u001b[0m\u001b[1;33m\u001b[0m\u001b[0m\n\u001b[0;32m    137\u001b[0m                 \u001b[0mnew_legend\u001b[0m \u001b[1;33m=\u001b[0m \u001b[0maxes\u001b[0m\u001b[1;33m.\u001b[0m\u001b[0mlegend\u001b[0m\u001b[1;33m(\u001b[0m\u001b[1;33m)\u001b[0m\u001b[1;33m\u001b[0m\u001b[0m\n\u001b[1;32m--> 138\u001b[1;33m                 \u001b[0mnew_legend\u001b[0m\u001b[1;33m.\u001b[0m\u001b[0mdraggable\u001b[0m\u001b[1;33m(\u001b[0m\u001b[1;32mTrue\u001b[0m\u001b[1;33m)\u001b[0m\u001b[1;33m\u001b[0m\u001b[0m\n\u001b[0m\u001b[0;32m    139\u001b[0m \u001b[1;33m\u001b[0m\u001b[0m\n\u001b[0;32m    140\u001b[0m         \u001b[1;31m# Redraw\u001b[0m\u001b[1;33m\u001b[0m\u001b[1;33m\u001b[0m\u001b[0m\n",
        "\u001b[1;31mAttributeError\u001b[0m: 'NoneType' object has no attribute 'draggable'"
       ]
      },
      {
       "ename": "AttributeError",
       "evalue": "'NoneType' object has no attribute 'draggable'",
       "output_type": "pyerr",
       "traceback": [
        "\u001b[1;31m---------------------------------------------------------------------------\u001b[0m\n\u001b[1;31mAttributeError\u001b[0m                            Traceback (most recent call last)",
        "\u001b[1;32m/usr/lib/python3.4/site-packages/matplotlib/backends/backend_qt5.py\u001b[0m in \u001b[0;36medit_parameters\u001b[1;34m(self)\u001b[0m\n\u001b[0;32m    651\u001b[0m                     \u001b[1;32mreturn\u001b[0m\u001b[1;33m\u001b[0m\u001b[0m\n\u001b[0;32m    652\u001b[0m \u001b[1;33m\u001b[0m\u001b[0m\n\u001b[1;32m--> 653\u001b[1;33m             \u001b[0mfigureoptions\u001b[0m\u001b[1;33m.\u001b[0m\u001b[0mfigure_edit\u001b[0m\u001b[1;33m(\u001b[0m\u001b[0maxes\u001b[0m\u001b[1;33m,\u001b[0m \u001b[0mself\u001b[0m\u001b[1;33m)\u001b[0m\u001b[1;33m\u001b[0m\u001b[0m\n\u001b[0m\u001b[0;32m    654\u001b[0m \u001b[1;33m\u001b[0m\u001b[0m\n\u001b[0;32m    655\u001b[0m     \u001b[1;32mdef\u001b[0m \u001b[0m_update_buttons_checked\u001b[0m\u001b[1;33m(\u001b[0m\u001b[0mself\u001b[0m\u001b[1;33m)\u001b[0m\u001b[1;33m:\u001b[0m\u001b[1;33m\u001b[0m\u001b[0m\n",
        "\u001b[1;32m/usr/lib/python3.4/site-packages/matplotlib/backends/qt_editor/figureoptions.py\u001b[0m in \u001b[0;36mfigure_edit\u001b[1;34m(axes, parent)\u001b[0m\n\u001b[0;32m    146\u001b[0m                             apply=apply_callback)\n\u001b[0;32m    147\u001b[0m     \u001b[1;32mif\u001b[0m \u001b[0mdata\u001b[0m \u001b[1;32mis\u001b[0m \u001b[1;32mnot\u001b[0m \u001b[1;32mNone\u001b[0m\u001b[1;33m:\u001b[0m\u001b[1;33m\u001b[0m\u001b[0m\n\u001b[1;32m--> 148\u001b[1;33m         \u001b[0mapply_callback\u001b[0m\u001b[1;33m(\u001b[0m\u001b[0mdata\u001b[0m\u001b[1;33m)\u001b[0m\u001b[1;33m\u001b[0m\u001b[0m\n\u001b[0m",
        "\u001b[1;32m/usr/lib/python3.4/site-packages/matplotlib/backends/qt_editor/figureoptions.py\u001b[0m in \u001b[0;36mapply_callback\u001b[1;34m(data)\u001b[0m\n\u001b[0;32m    136\u001b[0m             \u001b[1;32melse\u001b[0m\u001b[1;33m:\u001b[0m\u001b[1;33m\u001b[0m\u001b[0m\n\u001b[0;32m    137\u001b[0m                 \u001b[0mnew_legend\u001b[0m \u001b[1;33m=\u001b[0m \u001b[0maxes\u001b[0m\u001b[1;33m.\u001b[0m\u001b[0mlegend\u001b[0m\u001b[1;33m(\u001b[0m\u001b[1;33m)\u001b[0m\u001b[1;33m\u001b[0m\u001b[0m\n\u001b[1;32m--> 138\u001b[1;33m                 \u001b[0mnew_legend\u001b[0m\u001b[1;33m.\u001b[0m\u001b[0mdraggable\u001b[0m\u001b[1;33m(\u001b[0m\u001b[1;32mTrue\u001b[0m\u001b[1;33m)\u001b[0m\u001b[1;33m\u001b[0m\u001b[0m\n\u001b[0m\u001b[0;32m    139\u001b[0m \u001b[1;33m\u001b[0m\u001b[0m\n\u001b[0;32m    140\u001b[0m         \u001b[1;31m# Redraw\u001b[0m\u001b[1;33m\u001b[0m\u001b[1;33m\u001b[0m\u001b[0m\n",
        "\u001b[1;31mAttributeError\u001b[0m: 'NoneType' object has no attribute 'draggable'"
       ]
      }
     ],
     "prompt_number": 33
    },
    {
     "cell_type": "code",
     "collapsed": false,
     "input": [
      "np.size(eigenfuncs[1][0:size/10+1])"
     ],
     "language": "python",
     "metadata": {},
     "outputs": [
      {
       "metadata": {},
       "output_type": "pyout",
       "prompt_number": 18,
       "text": [
        "410"
       ]
      }
     ],
     "prompt_number": 18
    },
    {
     "cell_type": "code",
     "collapsed": false,
     "input": [
      "SVG(\"eigfplots.svg\")"
     ],
     "language": "python",
     "metadata": {},
     "outputs": [
      {
       "metadata": {},
       "output_type": "pyout",
       "prompt_number": 32,
       "svg": [
        "<svg height=\"432pt\" version=\"1.1\" viewBox=\"0 0 576 432\" width=\"576pt\" xmlns=\"http://www.w3.org/2000/svg\" xmlns:xlink=\"http://www.w3.org/1999/xlink\">\n",
        " <defs>\n",
        "  <style type=\"text/css\">\n",
        "*{stroke-linecap:butt;stroke-linejoin:round;}\n",
        "  </style>\n",
        " </defs>\n",
        " <g id=\"figure_1\">\n",
        "  <g id=\"patch_1\">\n",
        "   <path d=\" M0 432 L576 432 L576 0 L0 0 z \" style=\"fill:#ffffff;\"/>\n",
        "  </g>\n",
        " </g>\n",
        "</svg>"
       ],
       "text": [
        "<IPython.core.display.SVG at 0x7fd66c2e0198>"
       ]
      }
     ],
     "prompt_number": 32
    },
    {
     "cell_type": "code",
     "collapsed": false,
     "input": [
      "eigenfuncs[1][0:size:4]"
     ],
     "language": "python",
     "metadata": {},
     "outputs": [
      {
       "metadata": {},
       "output_type": "pyout",
       "prompt_number": 18,
       "text": [
        "array([-0.01360899+0.00044639j,  0.00107661+0.00076554j,\n",
        "       -0.01360899+0.00044639j, ...,  0.00107661+0.00076554j,\n",
        "       -0.01360899+0.00044639j,  0.00107661+0.00076554j])"
       ]
      }
     ],
     "prompt_number": 18
    },
    {
     "cell_type": "code",
     "collapsed": false,
     "input": [
      "eigf"
     ],
     "language": "python",
     "metadata": {},
     "outputs": [
      {
       "metadata": {},
       "output_type": "pyout",
       "prompt_number": 17,
       "text": [
        "array([[ -7.22018000e-03 -7.24291000e-05j,\n",
        "         -7.22018000e-03 -7.24291000e-05j,\n",
        "          3.93703000e-04 -5.31494000e-04j, ...,\n",
        "          3.86728000e-09 +5.63187000e-09j,\n",
        "          2.01523000e-09 +4.21340000e-09j,\n",
        "          5.92713000e-09 +6.05923000e-09j],\n",
        "       [ -6.10088000e-17 +1.25352000e-17j,\n",
        "          6.08358000e-17 -1.25042000e-17j,\n",
        "         -7.18982000e-03 -7.21246000e-05j, ...,\n",
        "         -2.68166000e-09 +6.52923000e-10j,\n",
        "         -1.49575000e-09 +1.82315000e-10j,\n",
        "         -2.51294000e-09 +1.43845000e-09j],\n",
        "       [  3.23006000e-02 -1.21656000e-14j,\n",
        "          3.23006000e-02 -1.21674000e-14j,\n",
        "         -1.73727000e-03 +2.39515000e-03j, ...,\n",
        "          1.46620000e-07 +2.89091000e-06j,\n",
        "         -5.71071000e-07 +2.76089000e-06j,\n",
        "          3.35530000e-07 +1.47804000e-06j],\n",
        "       ..., \n",
        "       [ -6.59838000e-20 +7.70471000e-19j,\n",
        "         -2.30842000e-19 +7.99774000e-19j,\n",
        "          9.31018000e-03 +9.27058000e-05j, ...,\n",
        "         -5.44003000e-09 +1.03663000e-08j,\n",
        "         -2.12916000e-09 +6.14208000e-09j,\n",
        "         -4.86552000e-09 +1.20998000e-08j],\n",
        "       [ -2.77531000e-02 -3.24199000e-07j,\n",
        "          2.77531000e-02 +3.24199000e-07j,\n",
        "          1.49271000e-03 -2.05793000e-03j, ...,\n",
        "         -2.19263000e-05 -1.71816000e-05j,\n",
        "         -2.29171000e-05 -1.66023000e-05j,\n",
        "         -2.98039000e-06 -7.43574000e-06j],\n",
        "       [  4.73500000e-18 -3.25430000e-18j,\n",
        "          5.22336000e-18 -3.34614000e-18j,\n",
        "         -2.76365000e-02 -3.22836000e-07j, ...,\n",
        "          1.50046000e-05 +4.33098000e-06j,\n",
        "          1.50929000e-05 +4.08017000e-06j,\n",
        "          1.41936000e-05 +4.36800000e-06j]])"
       ]
      }
     ],
     "prompt_number": 17
    },
    {
     "cell_type": "code",
     "collapsed": false,
     "input": [],
     "language": "python",
     "metadata": {},
     "outputs": []
    }
   ],
   "metadata": {}
  }
 ]
}