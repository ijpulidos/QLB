{
 "metadata": {
  "name": "",
  "signature": "sha256:05fd2d8835a4c888d53f28663a45b087fef32d663e0f95e796cb3cca45a5901a"
 },
 "nbformat": 3,
 "nbformat_minor": 0,
 "worksheets": [
  {
   "cells": [
    {
     "cell_type": "markdown",
     "metadata": {},
     "source": [
      "This notebook is made to show/do some calculations that will test parts of the C++ code (qlb_succi.cpp)"
     ]
    },
    {
     "cell_type": "code",
     "collapsed": false,
     "input": [
      "from sympy.solvers import solve\n",
      "from sympy import Symbol, lambdify, simplify, Matrix, sqrt, log\n",
      "from sympy.interactive import printing\n",
      "printing.init_printing()  # for pretty printing (tex printing)"
     ],
     "language": "python",
     "metadata": {},
     "outputs": [],
     "prompt_number": 1
    },
    {
     "cell_type": "markdown",
     "metadata": {},
     "source": [
      "# Testing eigenvalues calculation (manually - using symbols)\n",
      "These calculations are made by armadillo lib (http://arma.sourceforge.net/), and I have seen some problems with the matrices I'm using, so this notebook tries to tests wether the results obtained with armadillo are correct (for a small matrix).\n",
      "\n",
      "## Time evolution (single step)\n",
      "The matrix that gives the time evolution (from $t_0$ to $t_1$ is given by)\n",
      "\n",
      "$$\n",
      "\\begin{pmatrix}\n",
      "u_1 \\\\\n",
      "u_2 \\\\\n",
      "d_1 \\\\\n",
      "d_2\n",
      "\\end{pmatrix}_{t_1}\n",
      "= \n",
      "\\begin{pmatrix}\n",
      "a & 0 & b & 0 \\\\\n",
      "0 & a & 0 & b \\\\\n",
      "-b & 0 & a & 0 \\\\\n",
      "0 & -b & 0 & a\n",
      "\\end{pmatrix}\n",
      "\\begin{pmatrix}\n",
      "u_1 \\\\\n",
      "u_2 \\\\\n",
      "d_1 \\\\\n",
      "d_2\n",
      "\\end{pmatrix}_{t_0}\n",
      "$$\n",
      "\n",
      "Such that, solving for its eigenvalues is reduced to finding the solutions to\n",
      "\n",
      "$$\n",
      "det(U-I\\lambda) = 0\n",
      "$$"
     ]
    },
    {
     "cell_type": "code",
     "collapsed": false,
     "input": [
      "# defining symbolic variables to be used\n",
      "a = Symbol('a');\n",
      "b = Symbol('b');\n",
      "l = Symbol('l');"
     ],
     "language": "python",
     "metadata": {},
     "outputs": [],
     "prompt_number": 2
    },
    {
     "cell_type": "code",
     "collapsed": false,
     "input": [
      "T = Matrix([[a,0,b,0],[0,a,0,b],[-b,0,a,0],[0,-b,0,a]])\n",
      "M = Matrix([[a-l,0,b,0],[0,a-l,0,b],[-b,0,a-l,0],[0,-b,0,a-l]])\n",
      "eq = simplify(M.det())\n",
      "# Symbolically solving the characteristic polynomial equation\n",
      "#eq = (a-l)**4+b**2*(a-l)-b**2*(a-l)**2+b**3;\n",
      "simplify(solve(eq,l))"
     ],
     "language": "python",
     "metadata": {},
     "outputs": [
      {
       "latex": [
        "$$\\begin{bmatrix}a - \\sqrt{- b^{2}}, & a + \\sqrt{- b^{2}}\\end{bmatrix}$$"
       ],
       "metadata": {},
       "output_type": "pyout",
       "png": "[encoded data removed]",
       "prompt_number": 3,
       "text": [
        "\u23a1       _____         _____\u23a4\n",
        "\u23a2      \u2571   2         \u2571   2 \u23a5\n",
        "\u23a3a - \u2572\u2571  -b  , a + \u2572\u2571  -b  \u23a6"
       ]
      }
     ],
     "prompt_number": 3
    },
    {
     "cell_type": "code",
     "collapsed": false,
     "input": [
      "T.eigenvals()"
     ],
     "language": "python",
     "metadata": {},
     "outputs": [
      {
       "latex": [
        "$$\\begin{Bmatrix}a - \\sqrt{- b^{2}} : 2, & a + \\sqrt{- b^{2}} : 2\\end{Bmatrix}$$"
       ],
       "metadata": {},
       "output_type": "pyout",
       "png": "[encoded data removed]",
       "prompt_number": 4,
       "text": [
        "\u23a7       _____            _____   \u23ab\n",
        "\u23a8      \u2571   2            \u2571   2    \u23ac\n",
        "\u23a9a - \u2572\u2571  -b  : 2, a + \u2572\u2571  -b  : 2\u23ad"
       ]
      }
     ],
     "prompt_number": 4
    },
    {
     "cell_type": "code",
     "collapsed": false,
     "input": [
      "# Using numbers instead of symbols\n",
      "eql = lambdify((a,b),eq)\n",
      "na = -0.999992+0.0399998*1j\n",
      "nb = -3.99995e-7+1.59999e-9*1j\n",
      "# simplify(solve(eql(na,nb),l))\n",
      "# then testing\n",
      "l1 = simplify(na - sqrt(-nb**2))\n",
      "l2 = simplify(na + sqrt(-nb**2))\n",
      "print(log(l1)/1j)\n",
      "print(log(l2)/1j)"
     ],
     "language": "python",
     "metadata": {},
     "outputs": [
      {
       "output_type": "stream",
       "stream": "stdout",
       "text": [
        "-1.0*I*(0.000791351065335865 + 3.10161424608036*I)\n",
        "-1.0*I*(0.000791379819275684 + 3.10161344723412*I)\n"
       ]
      }
     ],
     "prompt_number": 5
    },
    {
     "cell_type": "code",
     "collapsed": false,
     "input": [
      "U = Matrix([[1,1],[-1j,1j]])\n",
      "Uinv = Matrix([[1,1j],[1,-1j]])\n",
      "1/sqrt(2)*1/sqrt(2)*Uinv*U"
     ],
     "language": "python",
     "metadata": {},
     "outputs": [
      {
       "latex": [
        "$$\\left[\\begin{matrix}1.0 & 0\\\\0 & 1.0\\end{matrix}\\right]$$"
       ],
       "metadata": {},
       "output_type": "pyout",
       "png": "[encoded data removed]",
       "prompt_number": 6,
       "text": [
        "\u23a11.0   0 \u23a4\n",
        "\u23a2        \u23a5\n",
        "\u23a3 0   1.0\u23a6"
       ]
      }
     ],
     "prompt_number": 6
    },
    {
     "cell_type": "code",
     "collapsed": false,
     "input": [],
     "language": "python",
     "metadata": {},
     "outputs": []
    }
   ],
   "metadata": {}
  }
 ]
}