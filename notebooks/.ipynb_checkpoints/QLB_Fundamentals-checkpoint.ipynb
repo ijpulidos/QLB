{
 "metadata": {
  "name": "",
  "signature": "sha256:4767cbc718b84e1b09882737c12fd9a5cf95fb27be867ec1036793d8116fd1a9"
 },
 "nbformat": 3,
 "nbformat_minor": 0,
 "worksheets": [
  {
   "cells": [
    {
     "cell_type": "heading",
     "level": 1,
     "metadata": {},
     "source": [
      "QUANTUM LATTICE BOLTZMANN: Fundamentals"
     ]
    },
    {
     "cell_type": "markdown",
     "metadata": {},
     "source": [
      "We start from the Dirac equation given by \n",
      "$$\n",
      "\\partial_t\\mathbf{\\psi} + c\\mathbf{\\alpha}\\cdot\\nabla{\\mathbf{\\psi}} = -\\frac{mc^2}{\\hbar}\\beta\\mathbf{\\psi}\n",
      "$$ \n",
      "Where $\\psi=(\\psi_1,\\psi_2,\\psi_3,\\psi_4)^T\\ \\ \\ $ is a complex quadrispinor, $\\alpha=(\\alpha^x,\\alpha^y,\\alpha^z)\\ \\ \\ $ and $\\beta\\ \\ $ are $4\\times 4\\ \\ $ matrices. We define the matrices for the dirac equation $\\alpha^x,\\alpha^y,\\alpha^z,\\beta\\ \\ \\ $ as following"
     ]
    },
    {
     "cell_type": "code",
     "collapsed": false,
     "input": [
      "import numpy as np\n",
      "from sympy import Symbol, exp, I, Matrix, symbols, simplify, eye\n"
     ],
     "language": "python",
     "metadata": {},
     "outputs": [],
     "prompt_number": 1
    },
    {
     "cell_type": "code",
     "collapsed": false,
     "input": [
      "ax = Matrix(((0,0,0,1),(0,0,1,0),(0,1,0,0),(1,0,0,0)))\n",
      "ay = Matrix(((0,0,0,-I),(0,0,I,0),(0,-I,0,0),(I,0,0,0)))\n",
      "az = Matrix(((0,0,1,0),(0,0,0,-1),(1,0,0,0),(0,-1,0,0)))\n",
      "b = Matrix(((1,0,0,0),(0,1,0,0),(0,0,-1,0),(0,0,0,-1)))"
     ],
     "language": "python",
     "metadata": {},
     "outputs": [],
     "prompt_number": 2
    },
    {
     "cell_type": "markdown",
     "metadata": {},
     "source": [
      "If we define a unitary transform\n",
      "$$\n",
      "S = \\frac{1}{\\sqrt{2}}(\\alpha^y+\\beta)\n",
      "$$\n",
      "which yields the following transformed matrices (f.e. $\\alpha^x_S = S\\alpha^xS^\\dagger$)"
     ]
    },
    {
     "cell_type": "code",
     "collapsed": false,
     "input": [
      "SS=(ay+b)\n",
      "S = 1/np.sqrt(2)*SS\n",
      "axs = S*(ax*S.H)\n",
      "ays = S*(ay*S.H)\n",
      "azs = S*(az*S.H)\n",
      "bs = S*(b*S.H)"
     ],
     "language": "python",
     "metadata": {},
     "outputs": [],
     "prompt_number": 3
    },
    {
     "cell_type": "code",
     "collapsed": false,
     "input": [
      "dx, dy, dz = symbols('dx dy dz')\n",
      "nabla = Matrix((dx,dy,dz))\n",
      "alfa = Matrix([[ax],[ay],[az]])"
     ],
     "language": "python",
     "metadata": {},
     "outputs": [],
     "prompt_number": 4
    },
    {
     "cell_type": "code",
     "collapsed": false,
     "input": [
      "# Just testing that the transformed equation is OK\n",
      "simplify(S*(alfa[0]*nabla[0] + alfa[1]*nabla[1] + alfa[2]*nabla[2])*S) - simplify(-ax*nabla[0] + b*nabla[1] - az*nabla[2])"
     ],
     "language": "python",
     "metadata": {},
     "outputs": [
      {
       "metadata": {},
       "output_type": "pyout",
       "prompt_number": 5,
       "text": [
        "Matrix([\n",
        "[-2.22044604925031e-16*dy,                        0, 2.22044604925031e-16*dz,  2.22044604925031e-16*dx],\n",
        "[                       0, -2.22044604925031e-16*dy, 2.22044604925031e-16*dx, -2.22044604925031e-16*dz],\n",
        "[ 2.22044604925031e-16*dz,  2.22044604925031e-16*dx, 2.22044604925031e-16*dy,                        0],\n",
        "[ 2.22044604925031e-16*dx, -2.22044604925031e-16*dz,                       0,  2.22044604925031e-16*dy]])"
       ]
      }
     ],
     "prompt_number": 5
    },
    {
     "cell_type": "markdown",
     "metadata": {},
     "source": [
      "Therfore the Dirac equation can be written as (Majorana form) $$\\partial_t \\psi +c\\left( -\\alpha^x\\partial_x + \\beta\\partial_y -\\alpha^z\\partial_z \\right) \\psi = -i\\omega_c\\alpha^y\\psi$$"
     ]
    },
    {
     "cell_type": "code",
     "collapsed": false,
     "input": [],
     "language": "python",
     "metadata": {},
     "outputs": [],
     "prompt_number": 5
    }
   ],
   "metadata": {}
  }
 ]
}