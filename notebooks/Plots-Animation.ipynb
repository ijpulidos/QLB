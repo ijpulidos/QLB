{
 "cells": [
  {
   "cell_type": "markdown",
   "metadata": {},
   "source": [
    "This notebook is intended to do the postprocessing of the data obtained from the C++ code on QLB. It creates the plots and animations for the visualization of the different results."
   ]
  },
  {
   "cell_type": "code",
   "execution_count": 1,
   "metadata": {
    "collapsed": false
   },
   "outputs": [],
   "source": [
    "import numpy as np\n",
    "import matplotlib.pyplot as plt\n",
    "from matplotlib import animation"
   ]
  },
  {
   "cell_type": "code",
   "execution_count": 16,
   "metadata": {
    "collapsed": false
   },
   "outputs": [],
   "source": [
    "#%matplotlib inline\n",
    "i1 = 0\n",
    "i2 = 600\n",
    "i3 = 1200\n",
    "i4 = 5000\n",
    "num1 = format(i1,'04d')\n",
    "num2 = format(i2,'04d')\n",
    "num3 = format(i3,'04d')\n",
    "num4 = format(i4,'04d')\n",
    "plt.rc('text', usetex=True)\n",
    "plt.rc('font', family='serif')\n",
    "x1,y1 = np.loadtxt(\"../data/rho_sil_\" + num1 + \".dat\", unpack=True)\n",
    "x2,y2 = np.loadtxt(\"../data/rho_sil_\" + num2 + \".dat\", unpack=True)\n",
    "x3,y3 = np.loadtxt(\"../data/rho_sil_\" + num3 + \".dat\", unpack=True)\n",
    "x4,y4 = np.loadtxt(\"../data/rho_sil_\" + num4 + \".dat\", unpack=True)\n",
    "plot1 = plt.plot(x1,y1,'-.', label=\"t = 0\",lw=2.5)\n",
    "#plot2 = plt.plot(x2,y2,':', label=\"t = 600\", lw=2.5)\n",
    "plot3 = plt.plot(x3,y3,':', label=\"t = 1200\", lw=2.5)\n",
    "plot4 = plt.plot(x4,y4,'--', label=\"t = 5000\", lw=2.5)\n",
    "plot5 = plt.plot((683, 683), (0, 0.016), 'k-', lw=3)\n",
    "plot6 = plt.plot((1365, 1365), (0, 0.016), 'k-', label=\"Potential Well\",lw=3)\n",
    "plt.legend()\n",
    "plt.xlim(0,2048)\n",
    "plt.xlabel(r'$x$')\n",
    "plt.ylabel(r'$\\psi^2$')\n",
    "#plt.hold(True)\n",
    "#x,y = np.loadtxt(\"../data/CA_t1000.dat\", unpack=True)\n",
    "#plt.plot(x,y)\n",
    "#plt.hold(True)\n",
    "#x,y = np.loadtxt(\"../data/CA_t2000.dat\", unpack=True)\n",
    "#plt.plot(x,y)\n",
    "plt.grid(True)\n",
    "plt.savefig(\"wavepacket_t2000.pdf\", dpi=200)\n",
    "plt.show()"
   ]
  },
  {
   "cell_type": "code",
   "execution_count": 29,
   "metadata": {
    "collapsed": false
   },
   "outputs": [
    {
     "name": "stdout",
     "output_type": "stream",
     "text": [
      "[1222]\n"
     ]
    }
   ],
   "source": [
    "# Para ver como se mueve el máximo\n",
    "for i in range(0,1999):\n",
    "    num = format(i,'04d')\n",
    "    x,y = np.loadtxt(\"../data/rho_sil_\" + num + \".dat\", unpack=True)\n",
    "    temp = np.where(y==y.max())\n",
    "    temp=temp[0]\n",
    "print(temp)"
   ]
  },
  {
   "cell_type": "code",
   "execution_count": 60,
   "metadata": {
    "collapsed": false
   },
   "outputs": [
    {
     "data": {
      "image/png": "[encoded data removed]",
      "text/plain": [
       "<matplotlib.figure.Figure at 0x7f67472e1208>"
      ]
     },
     "metadata": {},
     "output_type": "display_data"
    }
   ],
   "source": [
    "# First set up the figure, the axis, and the plot element we want to animate\n",
    "fig = plt.figure()\n",
    "ax = plt.axes(xlim=(0, 2048), ylim=(0,0.02))\n",
    "line, = ax.plot([], [], lw=2)\n",
    "\n",
    "# initialization function: plot the background of each frame\n",
    "def init():\n",
    "    line.set_data([], [])\n",
    "    return line,\n",
    "\n",
    "# animation function.  This is called sequentially\n",
    "def animate(i):\n",
    "    num = format(i,'04d')\n",
    "    x, y = np.loadtxt(\"../data/rho_sil_\" + num + \".dat\",unpack=True)\n",
    "    line.set_data(x, y)\n",
    "    return line,\n",
    "\n",
    "# call the animator.  blit=True means only re-draw the parts that have changed.\n",
    "anim = animation.FuncAnimation(fig, animate, init_func=init,\n",
    "                               frames=10000, interval=20, blit=True)\n",
    "\n",
    "plt.grid(True)\n",
    "# save the animation as an mp4.  This requires ffmpeg or mencoder to be\n",
    "# installed.  The extra_args ensure that the x264 codec is used, so that\n",
    "# the video can be embedded in html5.  You may need to adjust this for\n",
    "# your system: for more information, see\n",
    "# http://matplotlib.sourceforge.net/api/animation_api.html\n",
    "anim.save('../animations/animation_squarewell.mp4', fps=120, extra_args=['-vcodec', 'libx264'])\n",
    "#anim.save('MovWave.mpeg', writer=\"ffmpeg\")\n",
    "\n",
    "\n",
    "#plt.show()"
   ]
  },
  {
   "cell_type": "code",
   "execution_count": null,
   "metadata": {
    "collapsed": false
   },
   "outputs": [],
   "source": []
  }
 ],
 "metadata": {
  "kernelspec": {
   "display_name": "Python 3",
   "language": "python",
   "name": "python3"
  },
  "language_info": {
   "codemirror_mode": {
    "name": "ipython",
    "version": 3
   },
   "file_extension": ".py",
   "mimetype": "text/x-python",
   "name": "python",
   "nbconvert_exporter": "python",
   "pygments_lexer": "ipython3",
   "version": "3.5.0"
  }
 },
 "nbformat": 4,
 "nbformat_minor": 0
}
