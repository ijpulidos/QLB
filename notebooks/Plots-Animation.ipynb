{
 "metadata": {
  "name": "",
  "signature": "sha256:4dc5a39facca9a23fe342631b2221b5e8a30133501caeab71eaf45eb8ec6fad1"
 },
 "nbformat": 3,
 "nbformat_minor": 0,
 "worksheets": [
  {
   "cells": [
    {
     "cell_type": "markdown",
     "metadata": {},
     "source": [
      "This notebook is intended to do the postprocessing of the data obtained from the C++ code on QLB. It creates the plots and animations for the visualization of the different results."
     ]
    },
    {
     "cell_type": "code",
     "collapsed": false,
     "input": [
      "import numpy as np\n",
      "import matplotlib.pyplot as plt\n",
      "from matplotlib import animation"
     ],
     "language": "python",
     "metadata": {},
     "outputs": [],
     "prompt_number": 1
    },
    {
     "cell_type": "code",
     "collapsed": false,
     "input": [
      "%matplotlib inline\n",
      "i = 822\n",
      "num = format(i,'04d')\n",
      "x,y = np.loadtxt(\"../data/rho_sil_\" + num + \".dat\", unpack=True)\n",
      "plt.plot(x,y)\n",
      "plt.show()"
     ],
     "language": "python",
     "metadata": {},
     "outputs": [
      {
       "metadata": {},
       "output_type": "display_data",
       "png": "[encoded data removed]",
       "text": [
        "<matplotlib.figure.Figure at 0x7f2b5811eb70>"
       ]
      }
     ],
     "prompt_number": 2
    },
    {
     "cell_type": "code",
     "collapsed": false,
     "input": [
      "# First set up the figure, the axis, and the plot element we want to animate\n",
      "fig = plt.figure()\n",
      "ax = plt.axes(xlim=(0, 1024), ylim=(0,0.04))\n",
      "line, = ax.plot([], [], lw=2)\n",
      "\n",
      "# initialization function: plot the background of each frame\n",
      "def init():\n",
      "    line.set_data([], [])\n",
      "    return line,\n",
      "\n",
      "# animation function.  This is called sequentially\n",
      "def animate(i):\n",
      "    num = format(i,'04d')\n",
      "    x, y = np.loadtxt(\"../data/rho_sil_\" + num + \".dat\",unpack=True)\n",
      "    line.set_data(x, y)\n",
      "    return line,\n",
      "\n",
      "# call the animator.  blit=True means only re-draw the parts that have changed.\n",
      "anim = animation.FuncAnimation(fig, animate, init_func=init,\n",
      "                               frames=2000, interval=20, blit=True)\n",
      "\n",
      "plt.grid(True)\n",
      "# save the animation as an mp4.  This requires ffmpeg or mencoder to be\n",
      "# installed.  The extra_args ensure that the x264 codec is used, so that\n",
      "# the video can be embedded in html5.  You may need to adjust this for\n",
      "# your system: for more information, see\n",
      "# http://matplotlib.sourceforge.net/api/animation_api.html\n",
      "anim.save('../animations/animation_squarewell.mp4', fps=120, extra_args=['-vcodec', 'libx264'])\n",
      "#anim.save('MovWave.mpeg', writer=\"ffmpeg\")\n",
      "\n",
      "\n",
      "#plt.show()"
     ],
     "language": "python",
     "metadata": {},
     "outputs": [],
     "prompt_number": 7
    },
    {
     "cell_type": "code",
     "collapsed": false,
     "input": [],
     "language": "python",
     "metadata": {},
     "outputs": []
    }
   ],
   "metadata": {}
  }
 ]
}