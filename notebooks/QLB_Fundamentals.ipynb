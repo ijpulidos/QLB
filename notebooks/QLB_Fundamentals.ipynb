{
 "cells": [
  {
   "cell_type": "markdown",
   "metadata": {},
   "source": [
    "# QUANTUM LATTICE BOLTZMANN: Fundamentals"
   ]
  },
  {
   "cell_type": "markdown",
   "metadata": {},
   "source": [
    "We start from the Dirac equation given by \n",
    "$$\n",
    "\\partial_t\\mathbf{\\psi} + c\\mathbf{\\alpha}\\cdot\\nabla{\\mathbf{\\psi}} = -\\frac{mc^2}{\\hbar}\\beta\\mathbf{\\psi}\n",
    "$$ \n",
    "Where $\\psi=(\\psi_1,\\psi_2,\\psi_3,\\psi_4)^T\\ \\ \\ $ is a complex quadrispinor, $\\alpha=(\\alpha^x,\\alpha^y,\\alpha^z)\\ \\ \\ $ and $\\beta\\ \\ $ are $4\\times 4\\ \\ $ matrices. We define the matrices for the dirac equation $\\alpha^x,\\alpha^y,\\alpha^z,\\beta\\ \\ \\ $ as following"
   ]
  },
  {
   "cell_type": "code",
   "execution_count": 9,
   "metadata": {
    "collapsed": false
   },
   "outputs": [],
   "source": [
    "import numpy as np\n",
    "from sympy import Symbol, exp, I, Matrix, symbols, simplify, eye, pprint"
   ]
  },
  {
   "cell_type": "code",
   "execution_count": 2,
   "metadata": {
    "collapsed": false
   },
   "outputs": [],
   "source": [
    "ax = Matrix(((0,0,0,1),(0,0,1,0),(0,1,0,0),(1,0,0,0)))\n",
    "ay = Matrix(((0,0,0,-I),(0,0,I,0),(0,-I,0,0),(I,0,0,0)))\n",
    "az = Matrix(((0,0,1,0),(0,0,0,-1),(1,0,0,0),(0,-1,0,0)))\n",
    "b = Matrix(((1,0,0,0),(0,1,0,0),(0,0,-1,0),(0,0,0,-1)))"
   ]
  },
  {
   "cell_type": "markdown",
   "metadata": {},
   "source": [
    "If we define a unitary transform\n",
    "$$\n",
    "S = \\frac{1}{\\sqrt{2}}(\\alpha^y+\\beta)\n",
    "$$\n",
    "which yields the following transformed matrices (f.e. $\\alpha^x_S = S\\alpha^xS^\\dagger$)"
   ]
  },
  {
   "cell_type": "code",
   "execution_count": 3,
   "metadata": {
    "collapsed": false
   },
   "outputs": [],
   "source": [
    "SS=(ay+b)\n",
    "S = 1/np.sqrt(2)*SS\n",
    "axs = S*(ax*S.H)\n",
    "ays = S*(ay*S.H)\n",
    "azs = S*(az*S.H)\n",
    "bs = S*(b*S.H)"
   ]
  },
  {
   "cell_type": "code",
   "execution_count": 5,
   "metadata": {
    "collapsed": false
   },
   "outputs": [],
   "source": [
    "dx, dy, dz = symbols('dx dy dz')\n",
    "u1, u2, d1, d2 = symbols('u1 u2 d1 d2')\n",
    "nabla = Matrix((dx,dy,dz))\n",
    "psi = Matrix((u1,u2,d1,d2))\n",
    "alfa = Matrix([[ax],[ay],[az]])"
   ]
  },
  {
   "cell_type": "code",
   "execution_count": 5,
   "metadata": {
    "collapsed": false
   },
   "outputs": [
    {
     "data": {
      "text/plain": [
       "Matrix([\n",
       "[-2.22044604925031e-16*dy,                        0, 2.22044604925031e-16*dz,  2.22044604925031e-16*dx],\n",
       "[                       0, -2.22044604925031e-16*dy, 2.22044604925031e-16*dx, -2.22044604925031e-16*dz],\n",
       "[ 2.22044604925031e-16*dz,  2.22044604925031e-16*dx, 2.22044604925031e-16*dy,                        0],\n",
       "[ 2.22044604925031e-16*dx, -2.22044604925031e-16*dz,                       0,  2.22044604925031e-16*dy]])"
      ]
     },
     "execution_count": 5,
     "metadata": {},
     "output_type": "execute_result"
    }
   ],
   "source": [
    "# Just testing that the transformed equation is OK\n",
    "simplify(S*(alfa[0]*nabla[0] + alfa[1]*nabla[1] + alfa[2]*nabla[2])*S) - simplify(-ax*nabla[0] + b*nabla[1] - az*nabla[2])"
   ]
  },
  {
   "cell_type": "markdown",
   "metadata": {},
   "source": [
    "Therfore the Dirac equation can be written as (Majorana form) $$\\partial_t \\psi +c\\left( -\\alpha^x\\partial_x + \\beta\\partial_y -\\alpha^z\\partial_z \\right) \\psi = -i\\omega_c\\alpha^y\\psi$$"
   ]
  },
  {
   "cell_type": "code",
   "execution_count": 29,
   "metadata": {
    "collapsed": false
   },
   "outputs": [
    {
     "data": {
      "text/plain": [
       "Matrix([\n",
       "[ 1.0*I*d2],\n",
       "[-1.0*I*d1],\n",
       "[-1.0*I*u2],\n",
       "[ 1.0*I*u1]])"
      ]
     },
     "execution_count": 29,
     "metadata": {},
     "output_type": "execute_result"
    }
   ],
   "source": [
    "temp = S.transpose()*psi\n",
    "simplify(S*temp)"
   ]
  },
  {
   "cell_type": "code",
   "execution_count": 38,
   "metadata": {
    "collapsed": false
   },
   "outputs": [
    {
     "data": {
      "text/plain": [
       "Matrix([\n",
       "[ 1.0*I*d2],\n",
       "[-1.0*I*d1],\n",
       "[-1.0*I*u2],\n",
       "[ 1.0*I*u1]])"
      ]
     },
     "execution_count": 38,
     "metadata": {},
     "output_type": "execute_result"
    }
   ],
   "source": [
    "a = psi.transpose()*S\n",
    "simplify(S.inv()*a.transpose())"
   ]
  },
  {
   "cell_type": "code",
   "execution_count": null,
   "metadata": {
    "collapsed": true
   },
   "outputs": [],
   "source": []
  }
 ],
 "metadata": {
  "kernelspec": {
   "display_name": "Python 3",
   "language": "python",
   "name": "python3"
  },
  "language_info": {
   "codemirror_mode": {
    "name": "ipython",
    "version": 3
   },
   "file_extension": ".py",
   "mimetype": "text/x-python",
   "name": "python",
   "nbconvert_exporter": "python",
   "pygments_lexer": "ipython3",
   "version": "3.5.0"
  }
 },
 "nbformat": 4,
 "nbformat_minor": 0
}
