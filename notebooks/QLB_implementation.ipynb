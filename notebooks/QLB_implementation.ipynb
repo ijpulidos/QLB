{
 "metadata": {
  "name": ""
 },
 "nbformat": 3,
 "nbformat_minor": 0,
 "worksheets": [
  {
   "cells": [
    {
     "cell_type": "markdown",
     "metadata": {},
     "source": [
      "# Quantum Lattice Boltzmann (1D)\n",
      "## Some notes on implementation\n",
      "\n",
      "###  1. SUCCI MODEL\n",
      "\n",
      "* The start point is the Dirac equation which is given by $\\left(\\partial_t + c\\vec{\\alpha}\\cdot \\mathbf{\\nabla}\\right)\\psi = -i \\omega_c \\beta \\psi$\n",
      "* $\\psi$ is a quadrispinor: $\\psi = (\\phi_1^+,\\phi_2^+,\\phi_1^-,\\phi_2^-)$ ($\\pm$ represents positive or negative energy values, $1,2$ represents spin state )\n",
      "\n",
      "#### \"Formal\" paralllel between Dirac and LBE\n",
      "\n",
      "* The LBE can be thought as a discretization of the following differential equation: $$\\partial_tf_i + c_{ia}\\partial_af_i = \\sum_{j=1}^bA_{ij}(f_j-f_j^{eq})$$\n",
      "* And the Dirac equation can be written in majorana form obtaining the following $$ \\partial_t \\psi + c(-\\alpha^x\\partial_x+ \\beta\\partial_y-\\alpha^z\\partial_z)\\psi = -i\\omega_c\\alpha^y\\psi $$\n",
      "\n",
      "Therefore by direct comparison...\n",
      "\n",
      "a) $f_i \\rightarrow \\psi_j $, but $b:=4$ (no more options)\n",
      "\n",
      "b) $c_i\\rightarrow \\vec{L}\\equiv c\\left(-\\alpha^x,\\beta,-\\alpha^z\\right)$, but it is impossible to simultaneously diagonalize $\\vec{L}$\n",
      "\n",
      "c) $A\\rightarrow -i\\omega_c\\alpha^y$, but $A$ is symmetric and $M$ is antisymmetric.\n",
      "\n",
      "#### Diagonal form\n",
      "\n",
      "Then the Dirac equation can be written in Majorana/hyperbolic form (using natural units from now on... $c=\\hbar=1$)\n",
      "$$\n",
      "\\partial_t \\begin{pmatrix} \\phi^+ \\\\ \\phi^-  \\end{pmatrix} + \\begin{pmatrix} 0 & 1 \\\\ 1 & 0 \\end{pmatrix} \\partial_z \\begin{pmatrix}\\phi^+ \\\\ \\phi^- \\end{pmatrix} = -im \\begin{pmatrix} \\phi^+ \\\\ \\phi^- \\end{pmatrix}\n",
      "$$\n",
      "Which in turn can be diagonalized using the Hadamard transform given by $U = \\frac{1}{\\sqrt{2}} \\begin{pmatrix} 1 & 1 \\\\ -i & i \\end{pmatrix}$ to obtain\n",
      "\\begin{eqnarray}\n",
      "\\partial_t u + \\partial_z u &=& md \\\\\n",
      "\\partial_t d - \\partial_z d &=& -mu\n",
      "\\end{eqnarray}\n",
      "\n",
      "where $\\begin{pmatrix}u \\\\ d \\end{pmatrix} = U \\begin{pmatrix} \\phi^+ \\\\ \\phi^-\\end{pmatrix}$\n",
      "\n",
      "#### Discretization\n",
      "By discretization and algebra of the last equation we get (making $\\Delta t = \\Delta z$)\n",
      "\\begin{eqnarray}\n",
      "u(z+\\Delta z, t+\\Delta t) = a(z,t)u(z,t) + b(z,t)d(z,t) \\\\\n",
      "d(z-\\Delta z, t+\\Delta t) = a(z,t)d(z,t) - b(z,t)u(z,t)\n",
      "\\end{eqnarray}\n",
      "\n",
      "With coefficients\n",
      "$$\n",
      "a(z,t) = \\frac{1 - \\frac{1}{4}\\Delta t^2m^2-g(z,t)^2}{1- ig(z,t)\\Delta t + \\frac{1}{4}\\Delta t^2(m^2-g(z,t)^2)}, \\ \\ b(z,t) = \\frac{m\\Delta t}{1-ig(z,t)\\Delta t + \\frac{1}{4}\\Delta t^2(m^2-g(z,t)^2)}\n",
      "$$\n",
      "\n",
      "For the free case ($g = 0$) they reduce to\n",
      "$$\n",
      "a(z,t) = \\frac{1 - \\frac{1}{4}\\Delta t^2m^2}{1 + \\frac{1}{4}\\Delta t^2m^2}, \\ \\ b(z,t) = \\frac{m\\Delta t}{1 - \\frac{1}{4}\\Delta t^2m^2}\n",
      "$$\n"
     ]
    },
    {
     "cell_type": "markdown",
     "metadata": {},
     "source": [
      "## Example1: (free Gaussian \"wavepacket\")"
     ]
    },
    {
     "cell_type": "code",
     "collapsed": false,
     "input": [
      "# needed modules / functions\n",
      "%pylab inline"
     ],
     "language": "python",
     "metadata": {},
     "outputs": [
      {
       "output_type": "stream",
       "stream": "stdout",
       "text": [
        "Populating the interactive namespace from numpy and matplotlib\n"
       ]
      }
     ],
     "prompt_number": 2
    },
    {
     "cell_type": "markdown",
     "metadata": {},
     "source": [
      "### Initial conditions and \"environment\"\n",
      "$$\n",
      "\\psi_0(z) = \\frac{1}{(2\\pi \\sigma_0^2)^{1/4}}\\exp{\\left[-imv_z(z-\\mu_0)\\right]}\\exp{\\left[-\\frac{1}{4}\\left(\\frac{z-\\mu_0}{\\sigma_0}\\right)^2\\right]}\n",
      "$$"
     ]
    },
    {
     "cell_type": "code",
     "collapsed": false,
     "input": [
      "N = 2048 # number of nodes (lattice points)\n",
      "x = linspace(0,N-1,N)\n",
      "\n",
      "sigma0 = 50  # Initial deviation\n",
      "mu0 = 1024  # Initial \"center/mean\" of the distribution\n",
      "\n",
      "# initial gaussian distribution\n",
      "m = 0.1  # Mass of the particle\n",
      "v = 2.0  # speed of the particle\n",
      "k = m*v  # Linear Momentum\n",
      "coeff = 1/(2*pi*sigma0**2)**0.25\n",
      "psi0 = coeff*exp(-1j*k*(x-mu0))*exp(-0.25*((x-mu0)/(sigma0))**2)\n",
      "u0 = 0.5*psi0\n",
      "d0 = -0.5j*psi0"
     ],
     "language": "python",
     "metadata": {},
     "outputs": [],
     "prompt_number": 3
    },
    {
     "cell_type": "code",
     "collapsed": false,
     "input": [
      "x[100]"
     ],
     "language": "python",
     "metadata": {},
     "outputs": [
      {
       "metadata": {},
       "output_type": "pyout",
       "prompt_number": 45,
       "text": [
        "100.0"
       ]
      }
     ],
     "prompt_number": 45
    },
    {
     "cell_type": "code",
     "collapsed": false,
     "input": [
      "plot(x,real(psi0),x,imag(psi0),x,abs(psi0))"
     ],
     "language": "python",
     "metadata": {},
     "outputs": [
      {
       "metadata": {},
       "output_type": "pyout",
       "prompt_number": 4,
       "text": [
        "[<matplotlib.lines.Line2D at 0x7ff451034150>,\n",
        " <matplotlib.lines.Line2D at 0x7ff451034550>,\n",
        " <matplotlib.lines.Line2D at 0x7ff451034e50>]"
       ]
      },
      {
       "metadata": {},
       "output_type": "display_data",
       "png": "[encoded data removed]",
       "text": [
        "<matplotlib.figure.Figure at 0x7ff45132fad0>"
       ]
      }
     ],
     "prompt_number": 4
    },
    {
     "cell_type": "markdown",
     "metadata": {},
     "source": [
      "### Evolution\n",
      "\n",
      "For the free case ($g = 0$) they reduce to\n",
      "$$\n",
      "a(z,t) = a(z,t) = \\frac{1 - \\frac{1}{4}\\Delta t^2m^2}{1 + \\frac{1}{4}\\Delta t^2m^2}, \\ \\ b(z,t) = \\frac{m\\Delta t}{1 - \\frac{1}{4}\\Delta t^2m^2}\n",
      "$$\n",
      "\\begin{eqnarray}\n",
      "u(z+\\Delta z, t+\\Delta t) = a(z,t)u(z,t) + b(z,t)d(z,t) \\\\\n",
      "d(z-\\Delta z, t+\\Delta t) = a(z,t)d(z,t) - b(z,t)u(z,t)\n",
      "\\end{eqnarray}"
     ]
    },
    {
     "cell_type": "code",
     "collapsed": false,
     "input": [
      "#%%timeit # Evolution conditions\n",
      "t = array(range(1000));\n",
      "# Evolution coefficients a and b\n",
      "a = (1-0.25*m**2)/(1+0.25*m**2)\n",
      "b = m/(1+0.25*m**2)\n",
      "# Evolution\n",
      "u = u0\n",
      "d = d0\n",
      "## Arrays to store the solutions at every instant of time\n",
      "uu = zeros((size(t),N), dtype=complex)\n",
      "dd = zeros((size(t),N), dtype=complex)\n",
      "for i in t:\n",
      "    for xx in x:\n",
      "        idx1 = (xx+1+N)%N\n",
      "        idx2 = (xx+1+N)%N\n",
      "        uu[i,idx1] = a*u[xx] + b*d[xx]\n",
      "        dd[i,idx2] = a*d[xx] - b*u[xx]\n",
      "    u = uu[i,:]\n",
      "    d = dd[i,:]"
     ],
     "language": "python",
     "metadata": {},
     "outputs": [],
     "prompt_number": 5
    },
    {
     "cell_type": "code",
     "collapsed": false,
     "input": [
      "plot(x,abs(uu[200,:]))"
     ],
     "language": "python",
     "metadata": {},
     "outputs": [
      {
       "metadata": {},
       "output_type": "pyout",
       "prompt_number": 6,
       "text": [
        "[<matplotlib.lines.Line2D at 0x7ff450fce050>]"
       ]
      },
      {
       "metadata": {},
       "output_type": "display_data",
       "png": "[encoded data removed]",
       "text": [
        "<matplotlib.figure.Figure at 0x7ff45107ee90>"
       ]
      }
     ],
     "prompt_number": 6
    },
    {
     "cell_type": "code",
     "collapsed": false,
     "input": [
      "# recovering the wave function from u and d\n",
      "psi = 1/sqrt(2)*(u+1j*d)\n",
      "psi2 = abs(psi)\n",
      "psi02 = abs(psi0)\n",
      "plot(x,psi2,x,psi02)\n",
      "#plot(x,real(uu[499]),x,imag(uu[499]))"
     ],
     "language": "python",
     "metadata": {},
     "outputs": [
      {
       "metadata": {},
       "output_type": "pyout",
       "prompt_number": 21,
       "text": [
        "[<matplotlib.lines.Line2D at 0x7f05b8803e90>,\n",
        " <matplotlib.lines.Line2D at 0x7f05b8806290>]"
       ]
      },
      {
       "metadata": {},
       "output_type": "display_data",
       "png": "[encoded data removed]",
       "text": [
        "<matplotlib.figure.Figure at 0x7f05b8a02810>"
       ]
      }
     ],
     "prompt_number": 21
    },
    {
     "cell_type": "markdown",
     "metadata": {},
     "source": [
      "### 2. Meyer Scheme\n",
      "(Quantum cellular automata based in the diffusion one)\n",
      "\n",
      "TODO"
     ]
    },
    {
     "cell_type": "code",
     "collapsed": false,
     "input": [],
     "language": "python",
     "metadata": {},
     "outputs": []
    },
    {
     "cell_type": "code",
     "collapsed": false,
     "input": [
      "U = 1/sqrt(2)*array([[1,1],[-1j,1j]])"
     ],
     "language": "python",
     "metadata": {},
     "outputs": [],
     "prompt_number": 27
    },
    {
     "cell_type": "code",
     "collapsed": false,
     "input": [
      "Uinv = inv(U)"
     ],
     "language": "python",
     "metadata": {},
     "outputs": [],
     "prompt_number": 29
    },
    {
     "cell_type": "code",
     "collapsed": false,
     "input": [
      "print(Uinv)"
     ],
     "language": "python",
     "metadata": {},
     "outputs": [
      {
       "output_type": "stream",
       "stream": "stdout",
       "text": [
        "[[ 0.70710678+0.j          0.00000000+0.70710678j]\n",
        " [ 0.70710678+0.j          0.00000000-0.70710678j]]\n"
       ]
      }
     ],
     "prompt_number": 36
    },
    {
     "cell_type": "code",
     "collapsed": false,
     "input": [],
     "language": "python",
     "metadata": {},
     "outputs": []
    }
   ],
   "metadata": {}
  }
 ]
}